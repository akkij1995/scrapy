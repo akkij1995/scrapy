{
 "cells": [
  {
   "cell_type": "code",
   "execution_count": 162,
   "metadata": {},
   "outputs": [],
   "source": [
    "import pandas as pd\n",
    "import numpy as np\n",
    "import matplotlib.pyplot as plt\n",
    "%matplotlib inline\n",
    "import seaborn as sns\n",
    "import warnings\n",
    "warnings.filterwarnings('ignore')"
   ]
  },
  {
   "cell_type": "code",
   "execution_count": 163,
   "metadata": {},
   "outputs": [
    {
     "data": {
      "text/html": [
       "<div>\n",
       "<style scoped>\n",
       "    .dataframe tbody tr th:only-of-type {\n",
       "        vertical-align: middle;\n",
       "    }\n",
       "\n",
       "    .dataframe tbody tr th {\n",
       "        vertical-align: top;\n",
       "    }\n",
       "\n",
       "    .dataframe thead th {\n",
       "        text-align: right;\n",
       "    }\n",
       "</style>\n",
       "<table border=\"1\" class=\"dataframe\">\n",
       "  <thead>\n",
       "    <tr style=\"text-align: right;\">\n",
       "      <th></th>\n",
       "      <th>restaurant+AF8-id</th>\n",
       "      <th>date</th>\n",
       "      <th>coversCount</th>\n",
       "      <th>beverages</th>\n",
       "      <th>food</th>\n",
       "      <th>other</th>\n",
       "      <th>dayOfWeek</th>\n",
       "      <th>dayOfMonth</th>\n",
       "      <th>dayOfYear</th>\n",
       "      <th>weekOfYear</th>\n",
       "      <th>month</th>\n",
       "      <th>year</th>\n",
       "      <th>weekOfMonth</th>\n",
       "      <th>Weeknum</th>\n",
       "      <th>getStart</th>\n",
       "      <th>weekNumOfYear</th>\n",
       "    </tr>\n",
       "  </thead>\n",
       "  <tbody>\n",
       "    <tr>\n",
       "      <th>0</th>\n",
       "      <td>104</td>\n",
       "      <td>2016+AC0-01+AC0-01</td>\n",
       "      <td>256</td>\n",
       "      <td>76440</td>\n",
       "      <td>81901</td>\n",
       "      <td>23660</td>\n",
       "      <td>5</td>\n",
       "      <td>1</td>\n",
       "      <td>1</td>\n",
       "      <td>1</td>\n",
       "      <td>1</td>\n",
       "      <td>2016</td>\n",
       "      <td>1</td>\n",
       "      <td>1</td>\n",
       "      <td>01/01/16</td>\n",
       "      <td>1</td>\n",
       "    </tr>\n",
       "    <tr>\n",
       "      <th>1</th>\n",
       "      <td>104</td>\n",
       "      <td>2016+AC0-01+AC0-02</td>\n",
       "      <td>286</td>\n",
       "      <td>93863</td>\n",
       "      <td>100568</td>\n",
       "      <td>29053</td>\n",
       "      <td>6</td>\n",
       "      <td>2</td>\n",
       "      <td>2</td>\n",
       "      <td>1</td>\n",
       "      <td>1</td>\n",
       "      <td>2016</td>\n",
       "      <td>1</td>\n",
       "      <td>1</td>\n",
       "      <td>01/01/16</td>\n",
       "      <td>1</td>\n",
       "    </tr>\n",
       "    <tr>\n",
       "      <th>2</th>\n",
       "      <td>104</td>\n",
       "      <td>2016+AC0-01+AC0-03</td>\n",
       "      <td>137</td>\n",
       "      <td>26579</td>\n",
       "      <td>38730</td>\n",
       "      <td>10631</td>\n",
       "      <td>0</td>\n",
       "      <td>3</td>\n",
       "      <td>3</td>\n",
       "      <td>2</td>\n",
       "      <td>1</td>\n",
       "      <td>2016</td>\n",
       "      <td>1</td>\n",
       "      <td>2</td>\n",
       "      <td>01/01/16</td>\n",
       "      <td>1</td>\n",
       "    </tr>\n",
       "    <tr>\n",
       "      <th>3</th>\n",
       "      <td>104</td>\n",
       "      <td>2016+AC0-01+AC0-04</td>\n",
       "      <td>133</td>\n",
       "      <td>14263</td>\n",
       "      <td>37084</td>\n",
       "      <td>5705</td>\n",
       "      <td>1</td>\n",
       "      <td>4</td>\n",
       "      <td>4</td>\n",
       "      <td>2</td>\n",
       "      <td>1</td>\n",
       "      <td>2016</td>\n",
       "      <td>1</td>\n",
       "      <td>2</td>\n",
       "      <td>01/01/16</td>\n",
       "      <td>1</td>\n",
       "    </tr>\n",
       "    <tr>\n",
       "      <th>4</th>\n",
       "      <td>104</td>\n",
       "      <td>2016+AC0-01+AC0-05</td>\n",
       "      <td>114</td>\n",
       "      <td>10098</td>\n",
       "      <td>26255</td>\n",
       "      <td>4039</td>\n",
       "      <td>2</td>\n",
       "      <td>5</td>\n",
       "      <td>5</td>\n",
       "      <td>2</td>\n",
       "      <td>1</td>\n",
       "      <td>2016</td>\n",
       "      <td>1</td>\n",
       "      <td>2</td>\n",
       "      <td>01/01/16</td>\n",
       "      <td>1</td>\n",
       "    </tr>\n",
       "  </tbody>\n",
       "</table>\n",
       "</div>"
      ],
      "text/plain": [
       "   restaurant+AF8-id                date  coversCount   beverages    food  \\\n",
       "0                104  2016+AC0-01+AC0-01           256      76440   81901   \n",
       "1                104  2016+AC0-01+AC0-02           286      93863  100568   \n",
       "2                104  2016+AC0-01+AC0-03           137      26579   38730   \n",
       "3                104  2016+AC0-01+AC0-04           133      14263   37084   \n",
       "4                104  2016+AC0-01+AC0-05           114      10098   26255   \n",
       "\n",
       "   other  dayOfWeek  dayOfMonth  dayOfYear  weekOfYear  month  year  \\\n",
       "0  23660          5           1          1           1      1  2016   \n",
       "1  29053          6           2          2           1      1  2016   \n",
       "2  10631          0           3          3           2      1  2016   \n",
       "3   5705          1           4          4           2      1  2016   \n",
       "4   4039          2           5          5           2      1  2016   \n",
       "\n",
       "   weekOfMonth  Weeknum  getStart weekNumOfYear  \n",
       "0            1        1  01/01/16             1  \n",
       "1            1        1  01/01/16             1  \n",
       "2            1        2  01/01/16             1  \n",
       "3            1        2  01/01/16             1  \n",
       "4            1        2  01/01/16             1  "
      ]
     },
     "execution_count": 163,
     "metadata": {},
     "output_type": "execute_result"
    }
   ],
   "source": [
    "data=pd.read_csv('review_data.csv')\n",
    "data.head()"
   ]
  },
  {
   "cell_type": "code",
   "execution_count": 164,
   "metadata": {},
   "outputs": [
    {
     "data": {
      "text/plain": [
       "(1427, 16)"
      ]
     },
     "execution_count": 164,
     "metadata": {},
     "output_type": "execute_result"
    }
   ],
   "source": [
    "data.shape"
   ]
  },
  {
   "cell_type": "code",
   "execution_count": 165,
   "metadata": {},
   "outputs": [
    {
     "data": {
      "text/plain": [
       "restaurant+AF8-id     int64\n",
       "date                 object\n",
       "coversCount           int64\n",
       "beverages             int64\n",
       "food                  int64\n",
       "other                 int64\n",
       "dayOfWeek             int64\n",
       "dayOfMonth            int64\n",
       "dayOfYear             int64\n",
       "weekOfYear            int64\n",
       "month                 int64\n",
       "year                  int64\n",
       "weekOfMonth           int64\n",
       "Weeknum               int64\n",
       "getStart             object\n",
       "weekNumOfYear        object\n",
       "dtype: object"
      ]
     },
     "execution_count": 165,
     "metadata": {},
     "output_type": "execute_result"
    }
   ],
   "source": [
    "data.dtypes"
   ]
  },
  {
   "cell_type": "code",
   "execution_count": 166,
   "metadata": {},
   "outputs": [
    {
     "data": {
      "text/plain": [
       "1        124\n",
       "40       124\n",
       "31        93\n",
       "27        93\n",
       "18        93\n",
       "9         93\n",
       "14        90\n",
       "22        90\n",
       "44        87\n",
       "5         84\n",
       "48        62\n",
       "35        60\n",
       "36        60\n",
       "32        31\n",
       "26        31\n",
       "49        31\n",
       "19        31\n",
       "13        30\n",
       "45        30\n",
       "10        30\n",
       "23        30\n",
       "6         29\n",
       "+ACo-      1\n",
       "Name: weekNumOfYear, dtype: int64"
      ]
     },
     "execution_count": 166,
     "metadata": {},
     "output_type": "execute_result"
    }
   ],
   "source": [
    "data.weekNumOfYear.value_counts()"
   ]
  },
  {
   "cell_type": "code",
   "execution_count": 167,
   "metadata": {},
   "outputs": [],
   "source": [
    "data.weekNumOfYear.replace('+ACo-','6',inplace=True)"
   ]
  },
  {
   "cell_type": "code",
   "execution_count": 168,
   "metadata": {},
   "outputs": [
    {
     "data": {
      "text/plain": [
       "1     124\n",
       "40    124\n",
       "31     93\n",
       "27     93\n",
       "18     93\n",
       "9      93\n",
       "14     90\n",
       "22     90\n",
       "44     87\n",
       "5      84\n",
       "48     62\n",
       "36     60\n",
       "35     60\n",
       "32     31\n",
       "26     31\n",
       "49     31\n",
       "19     31\n",
       "6      30\n",
       "13     30\n",
       "23     30\n",
       "45     30\n",
       "10     30\n",
       "Name: weekNumOfYear, dtype: int64"
      ]
     },
     "execution_count": 168,
     "metadata": {},
     "output_type": "execute_result"
    }
   ],
   "source": [
    "data.weekNumOfYear.value_counts()"
   ]
  },
  {
   "cell_type": "code",
   "execution_count": 169,
   "metadata": {},
   "outputs": [
    {
     "data": {
      "text/plain": [
       "restaurant+AF8-id    0\n",
       "date                 0\n",
       "coversCount          0\n",
       "beverages            0\n",
       "food                 0\n",
       "other                0\n",
       "dayOfWeek            0\n",
       "dayOfMonth           0\n",
       "dayOfYear            0\n",
       "weekOfYear           0\n",
       "month                0\n",
       "year                 0\n",
       "weekOfMonth          0\n",
       "Weeknum              0\n",
       "getStart             0\n",
       "weekNumOfYear        0\n",
       "dtype: int64"
      ]
     },
     "execution_count": 169,
     "metadata": {},
     "output_type": "execute_result"
    }
   ],
   "source": [
    "data.isnull().sum()"
   ]
  },
  {
   "cell_type": "code",
   "execution_count": 170,
   "metadata": {},
   "outputs": [],
   "source": [
    "data.weekNumOfYear=data.weekNumOfYear.astype('int64')"
   ]
  },
  {
   "cell_type": "code",
   "execution_count": 171,
   "metadata": {},
   "outputs": [
    {
     "data": {
      "text/plain": [
       "restaurant+AF8-id     int64\n",
       "date                 object\n",
       "coversCount           int64\n",
       "beverages             int64\n",
       "food                  int64\n",
       "other                 int64\n",
       "dayOfWeek             int64\n",
       "dayOfMonth            int64\n",
       "dayOfYear             int64\n",
       "weekOfYear            int64\n",
       "month                 int64\n",
       "year                  int64\n",
       "weekOfMonth           int64\n",
       "Weeknum               int64\n",
       "getStart             object\n",
       "weekNumOfYear         int64\n",
       "dtype: object"
      ]
     },
     "execution_count": 171,
     "metadata": {},
     "output_type": "execute_result"
    }
   ],
   "source": [
    "data.dtypes"
   ]
  },
  {
   "cell_type": "code",
   "execution_count": 172,
   "metadata": {},
   "outputs": [
    {
     "data": {
      "text/plain": [
       "restaurant+AF8-id    0.000000\n",
       "coversCount          0.913510\n",
       "beverages            1.115222\n",
       "food                 1.040445\n",
       "other                0.966844\n",
       "dayOfWeek            0.000964\n",
       "dayOfMonth           0.009090\n",
       "dayOfYear            0.016082\n",
       "weekOfYear           0.015528\n",
       "month                0.006978\n",
       "year                 0.038763\n",
       "weekOfMonth          0.091846\n",
       "Weeknum             -0.002945\n",
       "weekNumOfYear        0.014342\n",
       "dtype: float64"
      ]
     },
     "execution_count": 172,
     "metadata": {},
     "output_type": "execute_result"
    }
   ],
   "source": [
    "data.skew()"
   ]
  },
  {
   "cell_type": "code",
   "execution_count": 173,
   "metadata": {},
   "outputs": [],
   "source": [
    "data_new=data.drop(['restaurant+AF8-id','date','getStart'],axis=1)"
   ]
  },
  {
   "cell_type": "code",
   "execution_count": 174,
   "metadata": {},
   "outputs": [
    {
     "data": {
      "text/html": [
       "<div>\n",
       "<style scoped>\n",
       "    .dataframe tbody tr th:only-of-type {\n",
       "        vertical-align: middle;\n",
       "    }\n",
       "\n",
       "    .dataframe tbody tr th {\n",
       "        vertical-align: top;\n",
       "    }\n",
       "\n",
       "    .dataframe thead th {\n",
       "        text-align: right;\n",
       "    }\n",
       "</style>\n",
       "<table border=\"1\" class=\"dataframe\">\n",
       "  <thead>\n",
       "    <tr style=\"text-align: right;\">\n",
       "      <th></th>\n",
       "      <th>coversCount</th>\n",
       "      <th>beverages</th>\n",
       "      <th>food</th>\n",
       "      <th>other</th>\n",
       "      <th>dayOfWeek</th>\n",
       "      <th>dayOfMonth</th>\n",
       "      <th>dayOfYear</th>\n",
       "      <th>weekOfYear</th>\n",
       "      <th>month</th>\n",
       "      <th>year</th>\n",
       "      <th>weekOfMonth</th>\n",
       "      <th>Weeknum</th>\n",
       "      <th>weekNumOfYear</th>\n",
       "    </tr>\n",
       "  </thead>\n",
       "  <tbody>\n",
       "    <tr>\n",
       "      <th>0</th>\n",
       "      <td>256</td>\n",
       "      <td>76440</td>\n",
       "      <td>81901</td>\n",
       "      <td>23660</td>\n",
       "      <td>5</td>\n",
       "      <td>1</td>\n",
       "      <td>1</td>\n",
       "      <td>1</td>\n",
       "      <td>1</td>\n",
       "      <td>2016</td>\n",
       "      <td>1</td>\n",
       "      <td>1</td>\n",
       "      <td>1</td>\n",
       "    </tr>\n",
       "    <tr>\n",
       "      <th>1</th>\n",
       "      <td>286</td>\n",
       "      <td>93863</td>\n",
       "      <td>100568</td>\n",
       "      <td>29053</td>\n",
       "      <td>6</td>\n",
       "      <td>2</td>\n",
       "      <td>2</td>\n",
       "      <td>1</td>\n",
       "      <td>1</td>\n",
       "      <td>2016</td>\n",
       "      <td>1</td>\n",
       "      <td>1</td>\n",
       "      <td>1</td>\n",
       "    </tr>\n",
       "    <tr>\n",
       "      <th>2</th>\n",
       "      <td>137</td>\n",
       "      <td>26579</td>\n",
       "      <td>38730</td>\n",
       "      <td>10631</td>\n",
       "      <td>0</td>\n",
       "      <td>3</td>\n",
       "      <td>3</td>\n",
       "      <td>2</td>\n",
       "      <td>1</td>\n",
       "      <td>2016</td>\n",
       "      <td>1</td>\n",
       "      <td>2</td>\n",
       "      <td>1</td>\n",
       "    </tr>\n",
       "    <tr>\n",
       "      <th>3</th>\n",
       "      <td>133</td>\n",
       "      <td>14263</td>\n",
       "      <td>37084</td>\n",
       "      <td>5705</td>\n",
       "      <td>1</td>\n",
       "      <td>4</td>\n",
       "      <td>4</td>\n",
       "      <td>2</td>\n",
       "      <td>1</td>\n",
       "      <td>2016</td>\n",
       "      <td>1</td>\n",
       "      <td>2</td>\n",
       "      <td>1</td>\n",
       "    </tr>\n",
       "    <tr>\n",
       "      <th>4</th>\n",
       "      <td>114</td>\n",
       "      <td>10098</td>\n",
       "      <td>26255</td>\n",
       "      <td>4039</td>\n",
       "      <td>2</td>\n",
       "      <td>5</td>\n",
       "      <td>5</td>\n",
       "      <td>2</td>\n",
       "      <td>1</td>\n",
       "      <td>2016</td>\n",
       "      <td>1</td>\n",
       "      <td>2</td>\n",
       "      <td>1</td>\n",
       "    </tr>\n",
       "  </tbody>\n",
       "</table>\n",
       "</div>"
      ],
      "text/plain": [
       "   coversCount   beverages    food  other  dayOfWeek  dayOfMonth  dayOfYear  \\\n",
       "0           256      76440   81901  23660          5           1          1   \n",
       "1           286      93863  100568  29053          6           2          2   \n",
       "2           137      26579   38730  10631          0           3          3   \n",
       "3           133      14263   37084   5705          1           4          4   \n",
       "4           114      10098   26255   4039          2           5          5   \n",
       "\n",
       "   weekOfYear  month  year  weekOfMonth  Weeknum  weekNumOfYear  \n",
       "0           1      1  2016            1        1              1  \n",
       "1           1      1  2016            1        1              1  \n",
       "2           2      1  2016            1        2              1  \n",
       "3           2      1  2016            1        2              1  \n",
       "4           2      1  2016            1        2              1  "
      ]
     },
     "execution_count": 174,
     "metadata": {},
     "output_type": "execute_result"
    }
   ],
   "source": [
    "data_new.head()"
   ]
  },
  {
   "cell_type": "code",
   "execution_count": 175,
   "metadata": {},
   "outputs": [
    {
     "data": {
      "text/plain": [
       "<matplotlib.axes._subplots.AxesSubplot at 0x22e49fcf0f0>"
      ]
     },
     "execution_count": 175,
     "metadata": {},
     "output_type": "execute_result"
    },
    {
     "data": {
      "image/png": "[encoded data removed]",
      "text/plain": [
       "<Figure size 576x504 with 2 Axes>"
      ]
     },
     "metadata": {
      "needs_background": "light"
     },
     "output_type": "display_data"
    }
   ],
   "source": [
    "plt.figure(figsize=(8,7))\n",
    "sns.heatmap(data_new.corr(),annot=True)"
   ]
  },
  {
   "cell_type": "code",
   "execution_count": 176,
   "metadata": {},
   "outputs": [],
   "source": [
    "data_new.drop(['weekOfMonth','Weeknum'],axis=1,inplace=True)"
   ]
  },
  {
   "cell_type": "code",
   "execution_count": 177,
   "metadata": {},
   "outputs": [
    {
     "data": {
      "text/plain": [
       "<matplotlib.axes._subplots.AxesSubplot at 0x22e4a2fda58>"
      ]
     },
     "execution_count": 177,
     "metadata": {},
     "output_type": "execute_result"
    },
    {
     "data": {
      "image/png": "[encoded data removed]",
      "text/plain": [
       "<Figure size 432x288 with 1 Axes>"
      ]
     },
     "metadata": {
      "needs_background": "light"
     },
     "output_type": "display_data"
    }
   ],
   "source": [
    "sns.boxplot(data_new.food)"
   ]
  },
  {
   "cell_type": "code",
   "execution_count": 178,
   "metadata": {},
   "outputs": [],
   "source": [
    "data_new=data_new[(data_new['food']<100000)]"
   ]
  },
  {
   "cell_type": "code",
   "execution_count": 179,
   "metadata": {},
   "outputs": [
    {
     "data": {
      "text/plain": [
       "<matplotlib.axes._subplots.AxesSubplot at 0x22e4a359198>"
      ]
     },
     "execution_count": 179,
     "metadata": {},
     "output_type": "execute_result"
    },
    {
     "data": {
      "image/png": "[encoded data removed]",
      "text/plain": [
       "<Figure size 432x288 with 1 Axes>"
      ]
     },
     "metadata": {
      "needs_background": "light"
     },
     "output_type": "display_data"
    }
   ],
   "source": [
    "sns.boxplot(data_new.food)"
   ]
  },
  {
   "cell_type": "code",
   "execution_count": 180,
   "metadata": {},
   "outputs": [
    {
     "data": {
      "text/plain": [
       "<matplotlib.axes._subplots.AxesSubplot at 0x22e4a3b6438>"
      ]
     },
     "execution_count": 180,
     "metadata": {},
     "output_type": "execute_result"
    },
    {
     "data": {
      "image/png": "[encoded data removed]",
      "text/plain": [
       "<Figure size 432x288 with 1 Axes>"
      ]
     },
     "metadata": {
      "needs_background": "light"
     },
     "output_type": "display_data"
    }
   ],
   "source": [
    "sns.boxplot(data_new.other)"
   ]
  },
  {
   "cell_type": "code",
   "execution_count": 181,
   "metadata": {},
   "outputs": [],
   "source": [
    "from sklearn.preprocessing import MinMaxScaler\n",
    "sc=MinMaxScaler()\n",
    "data_tr=sc.fit_transform(data_new)\n",
    "data1=pd.DataFrame(data_tr,columns=data_new.columns)"
   ]
  },
  {
   "cell_type": "code",
   "execution_count": 182,
   "metadata": {},
   "outputs": [
    {
     "data": {
      "text/html": [
       "<div>\n",
       "<style scoped>\n",
       "    .dataframe tbody tr th:only-of-type {\n",
       "        vertical-align: middle;\n",
       "    }\n",
       "\n",
       "    .dataframe tbody tr th {\n",
       "        vertical-align: top;\n",
       "    }\n",
       "\n",
       "    .dataframe thead th {\n",
       "        text-align: right;\n",
       "    }\n",
       "</style>\n",
       "<table border=\"1\" class=\"dataframe\">\n",
       "  <thead>\n",
       "    <tr style=\"text-align: right;\">\n",
       "      <th></th>\n",
       "      <th>coversCount</th>\n",
       "      <th>beverages</th>\n",
       "      <th>food</th>\n",
       "      <th>other</th>\n",
       "      <th>dayOfWeek</th>\n",
       "      <th>dayOfMonth</th>\n",
       "      <th>dayOfYear</th>\n",
       "      <th>weekOfYear</th>\n",
       "      <th>month</th>\n",
       "      <th>year</th>\n",
       "      <th>weekNumOfYear</th>\n",
       "    </tr>\n",
       "  </thead>\n",
       "  <tbody>\n",
       "    <tr>\n",
       "      <th>0</th>\n",
       "      <td>0.813559</td>\n",
       "      <td>0.752000</td>\n",
       "      <td>0.790470</td>\n",
       "      <td>0.806663</td>\n",
       "      <td>0.833333</td>\n",
       "      <td>0.000000</td>\n",
       "      <td>0.000000</td>\n",
       "      <td>0.000000</td>\n",
       "      <td>0.0</td>\n",
       "      <td>0.0</td>\n",
       "      <td>0.0</td>\n",
       "    </tr>\n",
       "    <tr>\n",
       "      <th>1</th>\n",
       "      <td>0.309322</td>\n",
       "      <td>0.261478</td>\n",
       "      <td>0.279389</td>\n",
       "      <td>0.313998</td>\n",
       "      <td>0.000000</td>\n",
       "      <td>0.066667</td>\n",
       "      <td>0.005479</td>\n",
       "      <td>0.019231</td>\n",
       "      <td>0.0</td>\n",
       "      <td>0.0</td>\n",
       "      <td>0.0</td>\n",
       "    </tr>\n",
       "    <tr>\n",
       "      <th>2</th>\n",
       "      <td>0.292373</td>\n",
       "      <td>0.140316</td>\n",
       "      <td>0.259903</td>\n",
       "      <td>0.127732</td>\n",
       "      <td>0.166667</td>\n",
       "      <td>0.100000</td>\n",
       "      <td>0.008219</td>\n",
       "      <td>0.019231</td>\n",
       "      <td>0.0</td>\n",
       "      <td>0.0</td>\n",
       "      <td>0.0</td>\n",
       "    </tr>\n",
       "    <tr>\n",
       "      <th>3</th>\n",
       "      <td>0.211864</td>\n",
       "      <td>0.099342</td>\n",
       "      <td>0.131704</td>\n",
       "      <td>0.064736</td>\n",
       "      <td>0.333333</td>\n",
       "      <td>0.133333</td>\n",
       "      <td>0.010959</td>\n",
       "      <td>0.019231</td>\n",
       "      <td>0.0</td>\n",
       "      <td>0.0</td>\n",
       "      <td>0.0</td>\n",
       "    </tr>\n",
       "    <tr>\n",
       "      <th>4</th>\n",
       "      <td>0.313559</td>\n",
       "      <td>0.133931</td>\n",
       "      <td>0.239919</td>\n",
       "      <td>0.117901</td>\n",
       "      <td>0.500000</td>\n",
       "      <td>0.166667</td>\n",
       "      <td>0.013699</td>\n",
       "      <td>0.019231</td>\n",
       "      <td>0.0</td>\n",
       "      <td>0.0</td>\n",
       "      <td>0.0</td>\n",
       "    </tr>\n",
       "  </tbody>\n",
       "</table>\n",
       "</div>"
      ],
      "text/plain": [
       "   coversCount   beverages      food     other  dayOfWeek  dayOfMonth  \\\n",
       "0      0.813559   0.752000  0.790470  0.806663   0.833333    0.000000   \n",
       "1      0.309322   0.261478  0.279389  0.313998   0.000000    0.066667   \n",
       "2      0.292373   0.140316  0.259903  0.127732   0.166667    0.100000   \n",
       "3      0.211864   0.099342  0.131704  0.064736   0.333333    0.133333   \n",
       "4      0.313559   0.133931  0.239919  0.117901   0.500000    0.166667   \n",
       "\n",
       "   dayOfYear  weekOfYear  month  year  weekNumOfYear  \n",
       "0   0.000000    0.000000    0.0   0.0            0.0  \n",
       "1   0.005479    0.019231    0.0   0.0            0.0  \n",
       "2   0.008219    0.019231    0.0   0.0            0.0  \n",
       "3   0.010959    0.019231    0.0   0.0            0.0  \n",
       "4   0.013699    0.019231    0.0   0.0            0.0  "
      ]
     },
     "execution_count": 182,
     "metadata": {},
     "output_type": "execute_result"
    }
   ],
   "source": [
    "data1.head()"
   ]
  },
  {
   "cell_type": "code",
   "execution_count": 183,
   "metadata": {},
   "outputs": [
    {
     "data": {
      "text/plain": [
       "coversCount      0.849307\n",
       "beverages        1.072062\n",
       "food             0.943509\n",
       "other            0.927591\n",
       "dayOfWeek        0.019911\n",
       "dayOfMonth       0.007654\n",
       "dayOfYear        0.008567\n",
       "weekOfYear       0.008035\n",
       "month           -0.002458\n",
       "year             0.044642\n",
       "weekNumOfYear    0.004799\n",
       "dtype: float64"
      ]
     },
     "execution_count": 183,
     "metadata": {},
     "output_type": "execute_result"
    }
   ],
   "source": [
    "data1.skew()"
   ]
  },
  {
   "cell_type": "markdown",
   "metadata": {},
   "source": [
    "# # Prediction of coversCount\n"
   ]
  },
  {
   "cell_type": "code",
   "execution_count": 184,
   "metadata": {},
   "outputs": [],
   "source": [
    "data_input=data_new.drop(['beverages'],axis=1)\n"
   ]
  },
  {
   "cell_type": "code",
   "execution_count": 185,
   "metadata": {},
   "outputs": [],
   "source": [
    "data_output=data_new['coversCount ']"
   ]
  },
  {
   "cell_type": "code",
   "execution_count": 186,
   "metadata": {},
   "outputs": [],
   "source": [
    "from sklearn.model_selection import train_test_split as tts\n",
    "from sklearn.metrics import r2_score,mean_squared_error,mean_absolute_error\n",
    "from sklearn.model_selection import KFold"
   ]
  },
  {
   "cell_type": "code",
   "execution_count": 187,
   "metadata": {},
   "outputs": [
    {
     "name": "stdout",
     "output_type": "stream",
     "text": [
      "at random state 0 r2score is:1.0\n",
      "at random state 1 r2score is:1.0\n",
      "at random state 2 r2score is:1.0\n",
      "at random state 3 r2score is:1.0\n",
      "at random state 4 r2score is:1.0\n",
      "at random state 5 r2score is:1.0\n",
      "at random state 6 r2score is:1.0\n",
      "at random state 7 r2score is:1.0\n",
      "at random state 8 r2score is:1.0\n",
      "at random state 9 r2score is:1.0\n",
      "at random state 10 r2score is:1.0\n",
      "at random state 11 r2score is:1.0\n",
      "at random state 12 r2score is:1.0\n",
      "at random state 13 r2score is:1.0\n",
      "at random state 14 r2score is:1.0\n",
      "at random state 15 r2score is:1.0\n",
      "at random state 16 r2score is:1.0\n",
      "at random state 17 r2score is:1.0\n",
      "at random state 18 r2score is:1.0\n",
      "at random state 19 r2score is:1.0\n",
      "at random state 20 r2score is:1.0\n",
      "at random state 21 r2score is:1.0\n",
      "at random state 22 r2score is:1.0\n",
      "at random state 23 r2score is:1.0\n",
      "at random state 24 r2score is:1.0\n",
      "at random state 25 r2score is:1.0\n",
      "at random state 26 r2score is:1.0\n",
      "at random state 27 r2score is:1.0\n",
      "at random state 28 r2score is:1.0\n",
      "at random state 29 r2score is:1.0\n",
      "at random state 30 r2score is:1.0\n",
      "at random state 31 r2score is:1.0\n",
      "at random state 32 r2score is:1.0\n",
      "at random state 33 r2score is:1.0\n",
      "at random state 34 r2score is:1.0\n",
      "at random state 35 r2score is:1.0\n",
      "at random state 36 r2score is:1.0\n",
      "at random state 37 r2score is:1.0\n",
      "at random state 38 r2score is:1.0\n",
      "at random state 39 r2score is:1.0\n",
      "at random state 40 r2score is:1.0\n",
      "at random state 41 r2score is:1.0\n",
      "at random state 42 r2score is:1.0\n",
      "at random state 43 r2score is:1.0\n",
      "at random state 44 r2score is:1.0\n",
      "at random state 45 r2score is:1.0\n",
      "at random state 46 r2score is:1.0\n",
      "at random state 47 r2score is:1.0\n",
      "at random state 48 r2score is:1.0\n",
      "at random state 49 r2score is:1.0\n",
      "at random state 50 r2score is:1.0\n",
      "at random state 51 r2score is:1.0\n",
      "at random state 52 r2score is:1.0\n",
      "at random state 53 r2score is:1.0\n",
      "at random state 54 r2score is:1.0\n",
      "at random state 55 r2score is:1.0\n",
      "at random state 56 r2score is:1.0\n",
      "at random state 57 r2score is:1.0\n",
      "at random state 58 r2score is:1.0\n",
      "at random state 59 r2score is:1.0\n",
      "at random state 60 r2score is:1.0\n",
      "at random state 61 r2score is:1.0\n",
      "at random state 62 r2score is:1.0\n",
      "at random state 63 r2score is:1.0\n",
      "at random state 64 r2score is:1.0\n",
      "at random state 65 r2score is:1.0\n",
      "at random state 66 r2score is:1.0\n",
      "at random state 67 r2score is:1.0\n",
      "at random state 68 r2score is:1.0\n",
      "at random state 69 r2score is:1.0\n",
      "at random state 70 r2score is:1.0\n",
      "at random state 71 r2score is:1.0\n",
      "at random state 72 r2score is:1.0\n",
      "at random state 73 r2score is:1.0\n",
      "at random state 74 r2score is:1.0\n",
      "at random state 75 r2score is:1.0\n",
      "at random state 76 r2score is:1.0\n",
      "at random state 77 r2score is:1.0\n",
      "at random state 78 r2score is:1.0\n",
      "at random state 79 r2score is:1.0\n",
      "at random state 80 r2score is:1.0\n",
      "at random state 81 r2score is:1.0\n",
      "at random state 82 r2score is:1.0\n",
      "at random state 83 r2score is:1.0\n",
      "at random state 84 r2score is:1.0\n",
      "at random state 85 r2score is:1.0\n",
      "at random state 86 r2score is:1.0\n",
      "at random state 87 r2score is:1.0\n",
      "at random state 88 r2score is:1.0\n",
      "at random state 89 r2score is:1.0\n",
      "at random state 90 r2score is:1.0\n",
      "at random state 91 r2score is:1.0\n",
      "at random state 92 r2score is:1.0\n",
      "at random state 93 r2score is:1.0\n",
      "at random state 94 r2score is:1.0\n",
      "at random state 95 r2score is:1.0\n",
      "at random state 96 r2score is:1.0\n",
      "at random state 97 r2score is:1.0\n",
      "at random state 98 r2score is:1.0\n",
      "at random state 99 r2score is:1.0\n",
      "Max_score is : 1.0 at 0\n"
     ]
    }
   ],
   "source": [
    "from sklearn.linear_model import LinearRegression\n",
    "from sklearn.metrics import mean_squared_error as mse\n",
    "lr=LinearRegression()\n",
    "max_score=0\n",
    "for i in range(0,100):\n",
    "    x_train,x_test,y_train,y_test=tts(data_input,data_output,random_state=i,test_size=0.20)\n",
    "    lr.fit(x_train,y_train)\n",
    "    y_pred=lr.predict(x_test)\n",
    "    rscore=r2_score(y_test,y_pred)\n",
    "    print('at random state {} r2score is:{}'.format(i,rscore))\n",
    "    if rscore>max_score:\n",
    "            max_score=rscore\n",
    "            final_state=i\n",
    "print('Max_score is :',max_score,'at',final_state)"
   ]
  },
  {
   "cell_type": "code",
   "execution_count": 188,
   "metadata": {},
   "outputs": [],
   "source": [
    "from sklearn.model_selection import cross_val_score as cvs"
   ]
  },
  {
   "cell_type": "code",
   "execution_count": 189,
   "metadata": {},
   "outputs": [
    {
     "name": "stdout",
     "output_type": "stream",
     "text": [
      "rscore for testing data: 1.0\n",
      "rscore for training data: 1.0\n",
      "Cross val score: [1. 1. 1. 1. 1. 1. 1. 1. 1. 1.]\n",
      "Mean cv: 1.0\n"
     ]
    }
   ],
   "source": [
    "x_train,x_test,y_train,y_test=tts(data_input,data_output,random_state=59,test_size=0.20)\n",
    "lr.fit(x_train,y_train)\n",
    "y_pred=lr.predict(x_test)\n",
    "train_pred=lr.predict(x_train)\n",
    "rscore=r2_score(y_test,y_pred)\n",
    "rscore1=r2_score(y_train,train_pred)\n",
    "cv=cvs(lr,data_input,data_output,cv=10,scoring='r2')\n",
    "print('rscore for testing data:',rscore)\n",
    "print('rscore for training data:',rscore1)\n",
    "print('Cross val score:',cv)\n",
    "print('Mean cv:',np.mean(cv))"
   ]
  },
  {
   "cell_type": "code",
   "execution_count": 190,
   "metadata": {},
   "outputs": [],
   "source": [
    "output=pd.DataFrame({'Actual values':y_test,'Predicted values':y_pred})"
   ]
  },
  {
   "cell_type": "code",
   "execution_count": 191,
   "metadata": {},
   "outputs": [
    {
     "data": {
      "text/html": [
       "<div>\n",
       "<style scoped>\n",
       "    .dataframe tbody tr th:only-of-type {\n",
       "        vertical-align: middle;\n",
       "    }\n",
       "\n",
       "    .dataframe tbody tr th {\n",
       "        vertical-align: top;\n",
       "    }\n",
       "\n",
       "    .dataframe thead th {\n",
       "        text-align: right;\n",
       "    }\n",
       "</style>\n",
       "<table border=\"1\" class=\"dataframe\">\n",
       "  <thead>\n",
       "    <tr style=\"text-align: right;\">\n",
       "      <th></th>\n",
       "      <th>Actual values</th>\n",
       "      <th>Predicted values</th>\n",
       "    </tr>\n",
       "  </thead>\n",
       "  <tbody>\n",
       "    <tr>\n",
       "      <th>152</th>\n",
       "      <td>82</td>\n",
       "      <td>82.0</td>\n",
       "    </tr>\n",
       "    <tr>\n",
       "      <th>816</th>\n",
       "      <td>102</td>\n",
       "      <td>102.0</td>\n",
       "    </tr>\n",
       "    <tr>\n",
       "      <th>1011</th>\n",
       "      <td>99</td>\n",
       "      <td>99.0</td>\n",
       "    </tr>\n",
       "    <tr>\n",
       "      <th>570</th>\n",
       "      <td>154</td>\n",
       "      <td>154.0</td>\n",
       "    </tr>\n",
       "    <tr>\n",
       "      <th>925</th>\n",
       "      <td>181</td>\n",
       "      <td>181.0</td>\n",
       "    </tr>\n",
       "    <tr>\n",
       "      <th>...</th>\n",
       "      <td>...</td>\n",
       "      <td>...</td>\n",
       "    </tr>\n",
       "    <tr>\n",
       "      <th>289</th>\n",
       "      <td>112</td>\n",
       "      <td>112.0</td>\n",
       "    </tr>\n",
       "    <tr>\n",
       "      <th>358</th>\n",
       "      <td>279</td>\n",
       "      <td>279.0</td>\n",
       "    </tr>\n",
       "    <tr>\n",
       "      <th>130</th>\n",
       "      <td>168</td>\n",
       "      <td>168.0</td>\n",
       "    </tr>\n",
       "    <tr>\n",
       "      <th>1306</th>\n",
       "      <td>98</td>\n",
       "      <td>98.0</td>\n",
       "    </tr>\n",
       "    <tr>\n",
       "      <th>549</th>\n",
       "      <td>135</td>\n",
       "      <td>135.0</td>\n",
       "    </tr>\n",
       "  </tbody>\n",
       "</table>\n",
       "<p>281 rows × 2 columns</p>\n",
       "</div>"
      ],
      "text/plain": [
       "      Actual values  Predicted values\n",
       "152              82              82.0\n",
       "816             102             102.0\n",
       "1011             99              99.0\n",
       "570             154             154.0\n",
       "925             181             181.0\n",
       "...             ...               ...\n",
       "289             112             112.0\n",
       "358             279             279.0\n",
       "130             168             168.0\n",
       "1306             98              98.0\n",
       "549             135             135.0\n",
       "\n",
       "[281 rows x 2 columns]"
      ]
     },
     "execution_count": 191,
     "metadata": {},
     "output_type": "execute_result"
    }
   ],
   "source": [
    "output"
   ]
  },
  {
   "cell_type": "code",
   "execution_count": 192,
   "metadata": {},
   "outputs": [
    {
     "name": "stdout",
     "output_type": "stream",
     "text": [
      "error:\n",
      "Mean absolute error of test data: 1.313871905697324e-13\n",
      "Mean squared error of test data: 1.5654681241610062e-13\n",
      "Mean squared error of train data: 1.5982756848488828e-13\n"
     ]
    }
   ],
   "source": [
    "from sklearn.metrics import mean_absolute_error,mean_squared_error\n",
    "print('error:')\n",
    "print('Mean absolute error of test data:',mean_absolute_error(y_test,y_pred))\n",
    "print('Mean squared error of test data:',np.sqrt(mean_squared_error(y_test,y_pred)))\n",
    "print('Mean squared error of train data:',np.sqrt(mean_squared_error(y_train,train_pred)))"
   ]
  },
  {
   "cell_type": "markdown",
   "metadata": {},
   "source": [
    "# Prediction of Beverages\n"
   ]
  },
  {
   "cell_type": "code",
   "execution_count": 193,
   "metadata": {},
   "outputs": [],
   "source": [
    "data_input=data_new.drop(['coversCount '],axis=1)\n",
    "data_output=data_new['beverages']"
   ]
  },
  {
   "cell_type": "code",
   "execution_count": 194,
   "metadata": {},
   "outputs": [
    {
     "name": "stdout",
     "output_type": "stream",
     "text": [
      "at random state 0 r2score is:1.0\n",
      "at random state 1 r2score is:1.0\n",
      "at random state 2 r2score is:1.0\n",
      "at random state 3 r2score is:1.0\n",
      "at random state 4 r2score is:1.0\n",
      "at random state 5 r2score is:1.0\n",
      "at random state 6 r2score is:1.0\n",
      "at random state 7 r2score is:1.0\n",
      "at random state 8 r2score is:1.0\n",
      "at random state 9 r2score is:1.0\n",
      "at random state 10 r2score is:1.0\n",
      "at random state 11 r2score is:1.0\n",
      "at random state 12 r2score is:1.0\n",
      "at random state 13 r2score is:1.0\n",
      "at random state 14 r2score is:1.0\n",
      "at random state 15 r2score is:1.0\n",
      "at random state 16 r2score is:1.0\n",
      "at random state 17 r2score is:1.0\n",
      "at random state 18 r2score is:1.0\n",
      "at random state 19 r2score is:1.0\n",
      "at random state 20 r2score is:1.0\n",
      "at random state 21 r2score is:1.0\n",
      "at random state 22 r2score is:1.0\n",
      "at random state 23 r2score is:1.0\n",
      "at random state 24 r2score is:1.0\n",
      "at random state 25 r2score is:1.0\n",
      "at random state 26 r2score is:1.0\n",
      "at random state 27 r2score is:1.0\n",
      "at random state 28 r2score is:1.0\n",
      "at random state 29 r2score is:1.0\n",
      "at random state 30 r2score is:1.0\n",
      "at random state 31 r2score is:1.0\n",
      "at random state 32 r2score is:1.0\n",
      "at random state 33 r2score is:1.0\n",
      "at random state 34 r2score is:1.0\n",
      "at random state 35 r2score is:1.0\n",
      "at random state 36 r2score is:1.0\n",
      "at random state 37 r2score is:1.0\n",
      "at random state 38 r2score is:1.0\n",
      "at random state 39 r2score is:1.0\n",
      "at random state 40 r2score is:1.0\n",
      "at random state 41 r2score is:1.0\n",
      "at random state 42 r2score is:1.0\n",
      "at random state 43 r2score is:1.0\n",
      "at random state 44 r2score is:1.0\n",
      "at random state 45 r2score is:1.0\n",
      "at random state 46 r2score is:1.0\n",
      "at random state 47 r2score is:1.0\n",
      "at random state 48 r2score is:1.0\n",
      "at random state 49 r2score is:1.0\n",
      "at random state 50 r2score is:1.0\n",
      "at random state 51 r2score is:1.0\n",
      "at random state 52 r2score is:1.0\n",
      "at random state 53 r2score is:1.0\n",
      "at random state 54 r2score is:1.0\n",
      "at random state 55 r2score is:1.0\n",
      "at random state 56 r2score is:1.0\n",
      "at random state 57 r2score is:1.0\n",
      "at random state 58 r2score is:1.0\n",
      "at random state 59 r2score is:1.0\n",
      "at random state 60 r2score is:1.0\n",
      "at random state 61 r2score is:1.0\n",
      "at random state 62 r2score is:1.0\n",
      "at random state 63 r2score is:1.0\n",
      "at random state 64 r2score is:1.0\n",
      "at random state 65 r2score is:1.0\n",
      "at random state 66 r2score is:1.0\n",
      "at random state 67 r2score is:1.0\n",
      "at random state 68 r2score is:1.0\n",
      "at random state 69 r2score is:1.0\n",
      "at random state 70 r2score is:1.0\n",
      "at random state 71 r2score is:1.0\n",
      "at random state 72 r2score is:1.0\n",
      "at random state 73 r2score is:1.0\n",
      "at random state 74 r2score is:1.0\n",
      "at random state 75 r2score is:1.0\n",
      "at random state 76 r2score is:1.0\n",
      "at random state 77 r2score is:1.0\n",
      "at random state 78 r2score is:1.0\n",
      "at random state 79 r2score is:1.0\n",
      "at random state 80 r2score is:1.0\n",
      "at random state 81 r2score is:1.0\n",
      "at random state 82 r2score is:1.0\n",
      "at random state 83 r2score is:1.0\n",
      "at random state 84 r2score is:1.0\n",
      "at random state 85 r2score is:1.0\n",
      "at random state 86 r2score is:1.0\n",
      "at random state 87 r2score is:1.0\n",
      "at random state 88 r2score is:1.0\n",
      "at random state 89 r2score is:1.0\n",
      "at random state 90 r2score is:1.0\n",
      "at random state 91 r2score is:1.0\n",
      "at random state 92 r2score is:1.0\n",
      "at random state 93 r2score is:1.0\n",
      "at random state 94 r2score is:1.0\n",
      "at random state 95 r2score is:1.0\n",
      "at random state 96 r2score is:1.0\n",
      "at random state 97 r2score is:1.0\n",
      "at random state 98 r2score is:1.0\n",
      "at random state 99 r2score is:1.0\n",
      "Max_score is : 1.0 at 0\n"
     ]
    }
   ],
   "source": [
    "from sklearn.linear_model import LinearRegression\n",
    "from sklearn.metrics import mean_squared_error as mse\n",
    "lr=LinearRegression()\n",
    "max_score=0\n",
    "for i in range(0,100):\n",
    "    x_train,x_test,y_train,y_test=tts(data_input,data_output,random_state=i,test_size=0.20)\n",
    "    lr.fit(x_train,y_train)\n",
    "    y_pred=lr.predict(x_test)\n",
    "    rscore=r2_score(y_test,y_pred)\n",
    "    print('at random state {} r2score is:{}'.format(i,rscore))\n",
    "    if rscore>max_score:\n",
    "            max_score=rscore\n",
    "            final_state=i\n",
    "print('Max_score is :',max_score,'at',final_state)"
   ]
  },
  {
   "cell_type": "code",
   "execution_count": 195,
   "metadata": {},
   "outputs": [
    {
     "name": "stdout",
     "output_type": "stream",
     "text": [
      "rscore for testing data: 1.0\n",
      "rscore for training data: 1.0\n",
      "Cross val score: [1. 1. 1. 1. 1. 1. 1. 1. 1. 1.]\n",
      "Mean cv: 1.0\n"
     ]
    }
   ],
   "source": [
    "x_train,x_test,y_train,y_test=tts(data_input,data_output,random_state=0,test_size=0.30)\n",
    "lr.fit(x_train,y_train)\n",
    "y_pred=lr.predict(x_test)\n",
    "train_pred=lr.predict(x_train)\n",
    "rscore=r2_score(y_test,y_pred)\n",
    "rscore1=r2_score(y_train,train_pred)\n",
    "cv=cvs(lr,data_input,data_output,cv=10,scoring='r2')\n",
    "print('rscore for testing data:',rscore)\n",
    "print('rscore for training data:',rscore1)\n",
    "print('Cross val score:',cv)\n",
    "print('Mean cv:',np.mean(cv))"
   ]
  },
  {
   "cell_type": "code",
   "execution_count": 196,
   "metadata": {},
   "outputs": [],
   "source": [
    "output=pd.DataFrame({'Actual values':y_test,'Predicted values':y_pred})"
   ]
  },
  {
   "cell_type": "code",
   "execution_count": 197,
   "metadata": {},
   "outputs": [
    {
     "data": {
      "text/html": [
       "<div>\n",
       "<style scoped>\n",
       "    .dataframe tbody tr th:only-of-type {\n",
       "        vertical-align: middle;\n",
       "    }\n",
       "\n",
       "    .dataframe tbody tr th {\n",
       "        vertical-align: top;\n",
       "    }\n",
       "\n",
       "    .dataframe thead th {\n",
       "        text-align: right;\n",
       "    }\n",
       "</style>\n",
       "<table border=\"1\" class=\"dataframe\">\n",
       "  <thead>\n",
       "    <tr style=\"text-align: right;\">\n",
       "      <th></th>\n",
       "      <th>Actual values</th>\n",
       "      <th>Predicted values</th>\n",
       "    </tr>\n",
       "  </thead>\n",
       "  <tbody>\n",
       "    <tr>\n",
       "      <th>663</th>\n",
       "      <td>12330</td>\n",
       "      <td>12330.0</td>\n",
       "    </tr>\n",
       "    <tr>\n",
       "      <th>318</th>\n",
       "      <td>10730</td>\n",
       "      <td>10730.0</td>\n",
       "    </tr>\n",
       "    <tr>\n",
       "      <th>228</th>\n",
       "      <td>7525</td>\n",
       "      <td>7525.0</td>\n",
       "    </tr>\n",
       "    <tr>\n",
       "      <th>617</th>\n",
       "      <td>54501</td>\n",
       "      <td>54501.0</td>\n",
       "    </tr>\n",
       "    <tr>\n",
       "      <th>1255</th>\n",
       "      <td>25885</td>\n",
       "      <td>25885.0</td>\n",
       "    </tr>\n",
       "    <tr>\n",
       "      <th>...</th>\n",
       "      <td>...</td>\n",
       "      <td>...</td>\n",
       "    </tr>\n",
       "    <tr>\n",
       "      <th>914</th>\n",
       "      <td>9734</td>\n",
       "      <td>9734.0</td>\n",
       "    </tr>\n",
       "    <tr>\n",
       "      <th>169</th>\n",
       "      <td>72912</td>\n",
       "      <td>72912.0</td>\n",
       "    </tr>\n",
       "    <tr>\n",
       "      <th>1144</th>\n",
       "      <td>13391</td>\n",
       "      <td>13391.0</td>\n",
       "    </tr>\n",
       "    <tr>\n",
       "      <th>1122</th>\n",
       "      <td>22512</td>\n",
       "      <td>22512.0</td>\n",
       "    </tr>\n",
       "    <tr>\n",
       "      <th>85</th>\n",
       "      <td>67969</td>\n",
       "      <td>67969.0</td>\n",
       "    </tr>\n",
       "  </tbody>\n",
       "</table>\n",
       "<p>421 rows × 2 columns</p>\n",
       "</div>"
      ],
      "text/plain": [
       "      Actual values  Predicted values\n",
       "663           12330           12330.0\n",
       "318           10730           10730.0\n",
       "228            7525            7525.0\n",
       "617           54501           54501.0\n",
       "1255          25885           25885.0\n",
       "...             ...               ...\n",
       "914            9734            9734.0\n",
       "169           72912           72912.0\n",
       "1144          13391           13391.0\n",
       "1122          22512           22512.0\n",
       "85            67969           67969.0\n",
       "\n",
       "[421 rows x 2 columns]"
      ]
     },
     "execution_count": 197,
     "metadata": {},
     "output_type": "execute_result"
    }
   ],
   "source": [
    "output"
   ]
  },
  {
   "cell_type": "code",
   "execution_count": 198,
   "metadata": {},
   "outputs": [
    {
     "name": "stdout",
     "output_type": "stream",
     "text": [
      "error:\n",
      "Mean absolute error of test data: 1.552621952884094e-11\n",
      "Mean squared error of test data: 1.890032200387252e-11\n",
      "Mean squared error of train data: 2.0390292093251887e-11\n"
     ]
    }
   ],
   "source": [
    "from sklearn.metrics import mean_absolute_error,mean_squared_error\n",
    "print('error:')\n",
    "print('Mean absolute error of test data:',mean_absolute_error(y_test,y_pred))\n",
    "print('Mean squared error of test data:',np.sqrt(mean_squared_error(y_test,y_pred)))\n",
    "print('Mean squared error of train data:',np.sqrt(mean_squared_error(y_train,train_pred)))"
   ]
  },
  {
   "cell_type": "code",
   "execution_count": null,
   "metadata": {},
   "outputs": [],
   "source": []
  }
 ],
 "metadata": {
  "kernelspec": {
   "display_name": "Python 3",
   "language": "python",
   "name": "python3"
  },
  "language_info": {
   "codemirror_mode": {
    "name": "ipython",
    "version": 3
   },
   "file_extension": ".py",
   "mimetype": "text/x-python",
   "name": "python",
   "nbconvert_exporter": "python",
   "pygments_lexer": "ipython3",
   "version": "3.7.3"
  }
 },
 "nbformat": 4,
 "nbformat_minor": 4
}
